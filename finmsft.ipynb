{
 "cells": [
  {
   "cell_type": "code",
   "execution_count": 3,
   "id": "44f83c69",
   "metadata": {},
   "outputs": [
    {
     "data": {
      "text/html": [
       "<div>\n",
       "<style scoped>\n",
       "    .dataframe tbody tr th:only-of-type {\n",
       "        vertical-align: middle;\n",
       "    }\n",
       "\n",
       "    .dataframe tbody tr th {\n",
       "        vertical-align: top;\n",
       "    }\n",
       "\n",
       "    .dataframe thead th {\n",
       "        text-align: right;\n",
       "    }\n",
       "</style>\n",
       "<table border=\"1\" class=\"dataframe\">\n",
       "  <thead>\n",
       "    <tr style=\"text-align: right;\">\n",
       "      <th></th>\n",
       "      <th>Date</th>\n",
       "      <th>Open</th>\n",
       "      <th>High</th>\n",
       "      <th>Low</th>\n",
       "      <th>Close</th>\n",
       "      <th>Adj Close</th>\n",
       "      <th>Volume</th>\n",
       "    </tr>\n",
       "  </thead>\n",
       "  <tbody>\n",
       "    <tr>\n",
       "      <th>0</th>\n",
       "      <td>2020-05-20</td>\n",
       "      <td>184.809998</td>\n",
       "      <td>185.850006</td>\n",
       "      <td>183.940002</td>\n",
       "      <td>185.660004</td>\n",
       "      <td>183.879578</td>\n",
       "      <td>31261300</td>\n",
       "    </tr>\n",
       "    <tr>\n",
       "      <th>1</th>\n",
       "      <td>2020-05-21</td>\n",
       "      <td>185.399994</td>\n",
       "      <td>186.669998</td>\n",
       "      <td>183.289993</td>\n",
       "      <td>183.429993</td>\n",
       "      <td>181.670944</td>\n",
       "      <td>29119500</td>\n",
       "    </tr>\n",
       "    <tr>\n",
       "      <th>2</th>\n",
       "      <td>2020-05-22</td>\n",
       "      <td>183.190002</td>\n",
       "      <td>184.460007</td>\n",
       "      <td>182.539993</td>\n",
       "      <td>183.509995</td>\n",
       "      <td>181.750183</td>\n",
       "      <td>20826900</td>\n",
       "    </tr>\n",
       "    <tr>\n",
       "      <th>3</th>\n",
       "      <td>2020-05-26</td>\n",
       "      <td>186.339996</td>\n",
       "      <td>186.500000</td>\n",
       "      <td>181.100006</td>\n",
       "      <td>181.570007</td>\n",
       "      <td>179.828796</td>\n",
       "      <td>36073600</td>\n",
       "    </tr>\n",
       "    <tr>\n",
       "      <th>4</th>\n",
       "      <td>2020-05-27</td>\n",
       "      <td>180.199997</td>\n",
       "      <td>181.990005</td>\n",
       "      <td>176.600006</td>\n",
       "      <td>181.809998</td>\n",
       "      <td>180.066498</td>\n",
       "      <td>39517100</td>\n",
       "    </tr>\n",
       "    <tr>\n",
       "      <th>...</th>\n",
       "      <td>...</td>\n",
       "      <td>...</td>\n",
       "      <td>...</td>\n",
       "      <td>...</td>\n",
       "      <td>...</td>\n",
       "      <td>...</td>\n",
       "      <td>...</td>\n",
       "    </tr>\n",
       "    <tr>\n",
       "      <th>248</th>\n",
       "      <td>2021-05-14</td>\n",
       "      <td>245.580002</td>\n",
       "      <td>249.179993</td>\n",
       "      <td>245.490005</td>\n",
       "      <td>248.149994</td>\n",
       "      <td>247.578308</td>\n",
       "      <td>23868600</td>\n",
       "    </tr>\n",
       "    <tr>\n",
       "      <th>249</th>\n",
       "      <td>2021-05-17</td>\n",
       "      <td>246.550003</td>\n",
       "      <td>246.589996</td>\n",
       "      <td>243.520004</td>\n",
       "      <td>245.179993</td>\n",
       "      <td>244.615158</td>\n",
       "      <td>24970200</td>\n",
       "    </tr>\n",
       "    <tr>\n",
       "      <th>250</th>\n",
       "      <td>2021-05-18</td>\n",
       "      <td>246.270004</td>\n",
       "      <td>246.410004</td>\n",
       "      <td>242.899994</td>\n",
       "      <td>243.080002</td>\n",
       "      <td>242.520004</td>\n",
       "      <td>20168000</td>\n",
       "    </tr>\n",
       "    <tr>\n",
       "      <th>251</th>\n",
       "      <td>2021-05-19</td>\n",
       "      <td>239.309998</td>\n",
       "      <td>243.229996</td>\n",
       "      <td>238.600006</td>\n",
       "      <td>243.119995</td>\n",
       "      <td>243.119995</td>\n",
       "      <td>25723300</td>\n",
       "    </tr>\n",
       "    <tr>\n",
       "      <th>252</th>\n",
       "      <td>2021-05-20</td>\n",
       "      <td>243.960007</td>\n",
       "      <td>247.660004</td>\n",
       "      <td>243.860001</td>\n",
       "      <td>247.580002</td>\n",
       "      <td>247.580002</td>\n",
       "      <td>7566043</td>\n",
       "    </tr>\n",
       "  </tbody>\n",
       "</table>\n",
       "<p>253 rows × 7 columns</p>\n",
       "</div>"
      ],
      "text/plain": [
       "           Date        Open        High         Low       Close   Adj Close  \\\n",
       "0    2020-05-20  184.809998  185.850006  183.940002  185.660004  183.879578   \n",
       "1    2020-05-21  185.399994  186.669998  183.289993  183.429993  181.670944   \n",
       "2    2020-05-22  183.190002  184.460007  182.539993  183.509995  181.750183   \n",
       "3    2020-05-26  186.339996  186.500000  181.100006  181.570007  179.828796   \n",
       "4    2020-05-27  180.199997  181.990005  176.600006  181.809998  180.066498   \n",
       "..          ...         ...         ...         ...         ...         ...   \n",
       "248  2021-05-14  245.580002  249.179993  245.490005  248.149994  247.578308   \n",
       "249  2021-05-17  246.550003  246.589996  243.520004  245.179993  244.615158   \n",
       "250  2021-05-18  246.270004  246.410004  242.899994  243.080002  242.520004   \n",
       "251  2021-05-19  239.309998  243.229996  238.600006  243.119995  243.119995   \n",
       "252  2021-05-20  243.960007  247.660004  243.860001  247.580002  247.580002   \n",
       "\n",
       "       Volume  \n",
       "0    31261300  \n",
       "1    29119500  \n",
       "2    20826900  \n",
       "3    36073600  \n",
       "4    39517100  \n",
       "..        ...  \n",
       "248  23868600  \n",
       "249  24970200  \n",
       "250  20168000  \n",
       "251  25723300  \n",
       "252   7566043  \n",
       "\n",
       "[253 rows x 7 columns]"
      ]
     },
     "execution_count": 3,
     "metadata": {},
     "output_type": "execute_result"
    }
   ],
   "source": [
    "import pandas as pd\n",
    "import numpy as np\n",
    "import matplotlib.pyplot as plt\n",
    "pd.read_csv('MSFT.csv')\n",
    "microsoft = pd.read_csv('MSFT.csv')\n",
    "microsoft"
   ]
  },
  {
   "cell_type": "code",
   "execution_count": 4,
   "id": "2c5ff0ff",
   "metadata": {},
   "outputs": [
    {
     "data": {
      "text/html": [
       "<div>\n",
       "<style scoped>\n",
       "    .dataframe tbody tr th:only-of-type {\n",
       "        vertical-align: middle;\n",
       "    }\n",
       "\n",
       "    .dataframe tbody tr th {\n",
       "        vertical-align: top;\n",
       "    }\n",
       "\n",
       "    .dataframe thead th {\n",
       "        text-align: right;\n",
       "    }\n",
       "</style>\n",
       "<table border=\"1\" class=\"dataframe\">\n",
       "  <thead>\n",
       "    <tr style=\"text-align: right;\">\n",
       "      <th></th>\n",
       "      <th>Date</th>\n",
       "      <th>Open</th>\n",
       "      <th>High</th>\n",
       "      <th>Low</th>\n",
       "      <th>Close</th>\n",
       "      <th>Adj Close</th>\n",
       "      <th>Volume</th>\n",
       "    </tr>\n",
       "  </thead>\n",
       "  <tbody>\n",
       "    <tr>\n",
       "      <th>0</th>\n",
       "      <td>2020-05-20</td>\n",
       "      <td>184.809998</td>\n",
       "      <td>185.850006</td>\n",
       "      <td>183.940002</td>\n",
       "      <td>185.660004</td>\n",
       "      <td>183.879578</td>\n",
       "      <td>31261300</td>\n",
       "    </tr>\n",
       "    <tr>\n",
       "      <th>1</th>\n",
       "      <td>2020-05-21</td>\n",
       "      <td>185.399994</td>\n",
       "      <td>186.669998</td>\n",
       "      <td>183.289993</td>\n",
       "      <td>183.429993</td>\n",
       "      <td>181.670944</td>\n",
       "      <td>29119500</td>\n",
       "    </tr>\n",
       "    <tr>\n",
       "      <th>2</th>\n",
       "      <td>2020-05-22</td>\n",
       "      <td>183.190002</td>\n",
       "      <td>184.460007</td>\n",
       "      <td>182.539993</td>\n",
       "      <td>183.509995</td>\n",
       "      <td>181.750183</td>\n",
       "      <td>20826900</td>\n",
       "    </tr>\n",
       "    <tr>\n",
       "      <th>3</th>\n",
       "      <td>2020-05-26</td>\n",
       "      <td>186.339996</td>\n",
       "      <td>186.500000</td>\n",
       "      <td>181.100006</td>\n",
       "      <td>181.570007</td>\n",
       "      <td>179.828796</td>\n",
       "      <td>36073600</td>\n",
       "    </tr>\n",
       "    <tr>\n",
       "      <th>4</th>\n",
       "      <td>2020-05-27</td>\n",
       "      <td>180.199997</td>\n",
       "      <td>181.990005</td>\n",
       "      <td>176.600006</td>\n",
       "      <td>181.809998</td>\n",
       "      <td>180.066498</td>\n",
       "      <td>39517100</td>\n",
       "    </tr>\n",
       "    <tr>\n",
       "      <th>...</th>\n",
       "      <td>...</td>\n",
       "      <td>...</td>\n",
       "      <td>...</td>\n",
       "      <td>...</td>\n",
       "      <td>...</td>\n",
       "      <td>...</td>\n",
       "      <td>...</td>\n",
       "    </tr>\n",
       "    <tr>\n",
       "      <th>248</th>\n",
       "      <td>2021-05-14</td>\n",
       "      <td>245.580002</td>\n",
       "      <td>249.179993</td>\n",
       "      <td>245.490005</td>\n",
       "      <td>248.149994</td>\n",
       "      <td>247.578308</td>\n",
       "      <td>23868600</td>\n",
       "    </tr>\n",
       "    <tr>\n",
       "      <th>249</th>\n",
       "      <td>2021-05-17</td>\n",
       "      <td>246.550003</td>\n",
       "      <td>246.589996</td>\n",
       "      <td>243.520004</td>\n",
       "      <td>245.179993</td>\n",
       "      <td>244.615158</td>\n",
       "      <td>24970200</td>\n",
       "    </tr>\n",
       "    <tr>\n",
       "      <th>250</th>\n",
       "      <td>2021-05-18</td>\n",
       "      <td>246.270004</td>\n",
       "      <td>246.410004</td>\n",
       "      <td>242.899994</td>\n",
       "      <td>243.080002</td>\n",
       "      <td>242.520004</td>\n",
       "      <td>20168000</td>\n",
       "    </tr>\n",
       "    <tr>\n",
       "      <th>251</th>\n",
       "      <td>2021-05-19</td>\n",
       "      <td>239.309998</td>\n",
       "      <td>243.229996</td>\n",
       "      <td>238.600006</td>\n",
       "      <td>243.119995</td>\n",
       "      <td>243.119995</td>\n",
       "      <td>25723300</td>\n",
       "    </tr>\n",
       "    <tr>\n",
       "      <th>252</th>\n",
       "      <td>2021-05-20</td>\n",
       "      <td>243.960007</td>\n",
       "      <td>247.660004</td>\n",
       "      <td>243.860001</td>\n",
       "      <td>247.580002</td>\n",
       "      <td>247.580002</td>\n",
       "      <td>7566043</td>\n",
       "    </tr>\n",
       "  </tbody>\n",
       "</table>\n",
       "<p>253 rows × 7 columns</p>\n",
       "</div>"
      ],
      "text/plain": [
       "           Date        Open        High         Low       Close   Adj Close  \\\n",
       "0    2020-05-20  184.809998  185.850006  183.940002  185.660004  183.879578   \n",
       "1    2020-05-21  185.399994  186.669998  183.289993  183.429993  181.670944   \n",
       "2    2020-05-22  183.190002  184.460007  182.539993  183.509995  181.750183   \n",
       "3    2020-05-26  186.339996  186.500000  181.100006  181.570007  179.828796   \n",
       "4    2020-05-27  180.199997  181.990005  176.600006  181.809998  180.066498   \n",
       "..          ...         ...         ...         ...         ...         ...   \n",
       "248  2021-05-14  245.580002  249.179993  245.490005  248.149994  247.578308   \n",
       "249  2021-05-17  246.550003  246.589996  243.520004  245.179993  244.615158   \n",
       "250  2021-05-18  246.270004  246.410004  242.899994  243.080002  242.520004   \n",
       "251  2021-05-19  239.309998  243.229996  238.600006  243.119995  243.119995   \n",
       "252  2021-05-20  243.960007  247.660004  243.860001  247.580002  247.580002   \n",
       "\n",
       "       Volume  \n",
       "0    31261300  \n",
       "1    29119500  \n",
       "2    20826900  \n",
       "3    36073600  \n",
       "4    39517100  \n",
       "..        ...  \n",
       "248  23868600  \n",
       "249  24970200  \n",
       "250  20168000  \n",
       "251  25723300  \n",
       "252   7566043  \n",
       "\n",
       "[253 rows x 7 columns]"
      ]
     },
     "execution_count": 4,
     "metadata": {},
     "output_type": "execute_result"
    }
   ],
   "source": [
    "microsoft"
   ]
  },
  {
   "cell_type": "code",
   "execution_count": 6,
   "id": "0082cc42",
   "metadata": {},
   "outputs": [
    {
     "data": {
      "image/png": "[encoded data removed]",
      "text/plain": [
       "<Figure size 432x288 with 1 Axes>"
      ]
     },
     "metadata": {
      "needs_background": "light"
     },
     "output_type": "display_data"
    }
   ],
   "source": [
    "import pandas as pd\n",
    "import numpy as np\n",
    "import matplotlib.pyplot as plt\n",
    "pd.read_csv('MSFT.csv')\n",
    "microsoft = pd.read_csv('MSFT.csv')\n",
    "microsoft\n",
    "plt.plot(microsoft.Date, microsoft.Volume, '-', label = 'Volume of prod')\n",
    "plt.title('Microsoft price evaluation periods')\n",
    "plt.ylabel('Volume')\n",
    "plt.xlabel('Date')\n",
    "plt.legend()\n",
    "plt.savefig('My graph.png', dpi = 300)\n",
    "plt.show()"
   ]
  },
  {
   "cell_type": "code",
   "execution_count": null,
   "id": "97482829",
   "metadata": {},
   "outputs": [],
   "source": [
    "import pandas as pd\n",
    "import numpy as np\n",
    "import matplotlib.pyplot as plt\n",
    "pd.read_csv('MSFT.csv')\n",
    "microsoft = pd.read_csv('MSFT.csv')\n",
    "microsoft"
   ]
  },
  {
   "cell_type": "code",
   "execution_count": 8,
   "id": "590f979c",
   "metadata": {},
   "outputs": [
    {
     "data": {
      "text/html": [
       "<div>\n",
       "<style scoped>\n",
       "    .dataframe tbody tr th:only-of-type {\n",
       "        vertical-align: middle;\n",
       "    }\n",
       "\n",
       "    .dataframe tbody tr th {\n",
       "        vertical-align: top;\n",
       "    }\n",
       "\n",
       "    .dataframe thead th {\n",
       "        text-align: right;\n",
       "    }\n",
       "</style>\n",
       "<table border=\"1\" class=\"dataframe\">\n",
       "  <thead>\n",
       "    <tr style=\"text-align: right;\">\n",
       "      <th></th>\n",
       "      <th>Date</th>\n",
       "      <th>Open</th>\n",
       "      <th>High</th>\n",
       "      <th>Low</th>\n",
       "      <th>Close</th>\n",
       "      <th>Adj Close</th>\n",
       "      <th>Volume</th>\n",
       "    </tr>\n",
       "  </thead>\n",
       "  <tbody>\n",
       "    <tr>\n",
       "      <th>0</th>\n",
       "      <td>2020-05-20</td>\n",
       "      <td>184.809998</td>\n",
       "      <td>185.850006</td>\n",
       "      <td>183.940002</td>\n",
       "      <td>185.660004</td>\n",
       "      <td>183.879578</td>\n",
       "      <td>31261300</td>\n",
       "    </tr>\n",
       "    <tr>\n",
       "      <th>1</th>\n",
       "      <td>2020-05-21</td>\n",
       "      <td>185.399994</td>\n",
       "      <td>186.669998</td>\n",
       "      <td>183.289993</td>\n",
       "      <td>183.429993</td>\n",
       "      <td>181.670944</td>\n",
       "      <td>29119500</td>\n",
       "    </tr>\n",
       "    <tr>\n",
       "      <th>2</th>\n",
       "      <td>2020-05-22</td>\n",
       "      <td>183.190002</td>\n",
       "      <td>184.460007</td>\n",
       "      <td>182.539993</td>\n",
       "      <td>183.509995</td>\n",
       "      <td>181.750183</td>\n",
       "      <td>20826900</td>\n",
       "    </tr>\n",
       "    <tr>\n",
       "      <th>3</th>\n",
       "      <td>2020-05-26</td>\n",
       "      <td>186.339996</td>\n",
       "      <td>186.500000</td>\n",
       "      <td>181.100006</td>\n",
       "      <td>181.570007</td>\n",
       "      <td>179.828796</td>\n",
       "      <td>36073600</td>\n",
       "    </tr>\n",
       "    <tr>\n",
       "      <th>4</th>\n",
       "      <td>2020-05-27</td>\n",
       "      <td>180.199997</td>\n",
       "      <td>181.990005</td>\n",
       "      <td>176.600006</td>\n",
       "      <td>181.809998</td>\n",
       "      <td>180.066498</td>\n",
       "      <td>39517100</td>\n",
       "    </tr>\n",
       "    <tr>\n",
       "      <th>...</th>\n",
       "      <td>...</td>\n",
       "      <td>...</td>\n",
       "      <td>...</td>\n",
       "      <td>...</td>\n",
       "      <td>...</td>\n",
       "      <td>...</td>\n",
       "      <td>...</td>\n",
       "    </tr>\n",
       "    <tr>\n",
       "      <th>248</th>\n",
       "      <td>2021-05-14</td>\n",
       "      <td>245.580002</td>\n",
       "      <td>249.179993</td>\n",
       "      <td>245.490005</td>\n",
       "      <td>248.149994</td>\n",
       "      <td>247.578308</td>\n",
       "      <td>23868600</td>\n",
       "    </tr>\n",
       "    <tr>\n",
       "      <th>249</th>\n",
       "      <td>2021-05-17</td>\n",
       "      <td>246.550003</td>\n",
       "      <td>246.589996</td>\n",
       "      <td>243.520004</td>\n",
       "      <td>245.179993</td>\n",
       "      <td>244.615158</td>\n",
       "      <td>24970200</td>\n",
       "    </tr>\n",
       "    <tr>\n",
       "      <th>250</th>\n",
       "      <td>2021-05-18</td>\n",
       "      <td>246.270004</td>\n",
       "      <td>246.410004</td>\n",
       "      <td>242.899994</td>\n",
       "      <td>243.080002</td>\n",
       "      <td>242.520004</td>\n",
       "      <td>20168000</td>\n",
       "    </tr>\n",
       "    <tr>\n",
       "      <th>251</th>\n",
       "      <td>2021-05-19</td>\n",
       "      <td>239.309998</td>\n",
       "      <td>243.229996</td>\n",
       "      <td>238.600006</td>\n",
       "      <td>243.119995</td>\n",
       "      <td>243.119995</td>\n",
       "      <td>25723300</td>\n",
       "    </tr>\n",
       "    <tr>\n",
       "      <th>252</th>\n",
       "      <td>2021-05-20</td>\n",
       "      <td>243.960007</td>\n",
       "      <td>247.660004</td>\n",
       "      <td>243.860001</td>\n",
       "      <td>247.580002</td>\n",
       "      <td>247.580002</td>\n",
       "      <td>7566043</td>\n",
       "    </tr>\n",
       "  </tbody>\n",
       "</table>\n",
       "<p>253 rows × 7 columns</p>\n",
       "</div>"
      ],
      "text/plain": [
       "           Date        Open        High         Low       Close   Adj Close  \\\n",
       "0    2020-05-20  184.809998  185.850006  183.940002  185.660004  183.879578   \n",
       "1    2020-05-21  185.399994  186.669998  183.289993  183.429993  181.670944   \n",
       "2    2020-05-22  183.190002  184.460007  182.539993  183.509995  181.750183   \n",
       "3    2020-05-26  186.339996  186.500000  181.100006  181.570007  179.828796   \n",
       "4    2020-05-27  180.199997  181.990005  176.600006  181.809998  180.066498   \n",
       "..          ...         ...         ...         ...         ...         ...   \n",
       "248  2021-05-14  245.580002  249.179993  245.490005  248.149994  247.578308   \n",
       "249  2021-05-17  246.550003  246.589996  243.520004  245.179993  244.615158   \n",
       "250  2021-05-18  246.270004  246.410004  242.899994  243.080002  242.520004   \n",
       "251  2021-05-19  239.309998  243.229996  238.600006  243.119995  243.119995   \n",
       "252  2021-05-20  243.960007  247.660004  243.860001  247.580002  247.580002   \n",
       "\n",
       "       Volume  \n",
       "0    31261300  \n",
       "1    29119500  \n",
       "2    20826900  \n",
       "3    36073600  \n",
       "4    39517100  \n",
       "..        ...  \n",
       "248  23868600  \n",
       "249  24970200  \n",
       "250  20168000  \n",
       "251  25723300  \n",
       "252   7566043  \n",
       "\n",
       "[253 rows x 7 columns]"
      ]
     },
     "execution_count": 8,
     "metadata": {},
     "output_type": "execute_result"
    }
   ],
   "source": [
    "microsoft"
   ]
  },
  {
   "cell_type": "code",
   "execution_count": 10,
   "id": "1964171e",
   "metadata": {},
   "outputs": [
    {
     "data": {
      "text/plain": [
       "0      2020-05-20\n",
       "1      2020-05-21\n",
       "2      2020-05-22\n",
       "3      2020-05-26\n",
       "4      2020-05-27\n",
       "          ...    \n",
       "248    2021-05-14\n",
       "249    2021-05-17\n",
       "250    2021-05-18\n",
       "251    2021-05-19\n",
       "252    2021-05-20\n",
       "Name: Date, Length: 253, dtype: object"
      ]
     },
     "execution_count": 10,
     "metadata": {},
     "output_type": "execute_result"
    }
   ],
   "source": [
    "microsoft.Date"
   ]
  },
  {
   "cell_type": "code",
   "execution_count": 11,
   "id": "2b83df24",
   "metadata": {},
   "outputs": [
    {
     "data": {
      "text/plain": [
       "0      31261300\n",
       "1      29119500\n",
       "2      20826900\n",
       "3      36073600\n",
       "4      39517100\n",
       "         ...   \n",
       "248    23868600\n",
       "249    24970200\n",
       "250    20168000\n",
       "251    25723300\n",
       "252     7566043\n",
       "Name: Volume, Length: 253, dtype: int64"
      ]
     },
     "execution_count": 11,
     "metadata": {},
     "output_type": "execute_result"
    }
   ],
   "source": [
    "microsoft.Volume"
   ]
  },
  {
   "cell_type": "code",
   "execution_count": 12,
   "id": "bb8a79e1",
   "metadata": {},
   "outputs": [
    {
     "data": {
      "text/plain": [
       "Date         2021-05-19\n",
       "Open         239.309998\n",
       "High         243.229996\n",
       "Low          238.600006\n",
       "Close        243.119995\n",
       "Adj Close    243.119995\n",
       "Volume         25723300\n",
       "Name: 251, dtype: object"
      ]
     },
     "execution_count": 12,
     "metadata": {},
     "output_type": "execute_result"
    }
   ],
   "source": [
    "microsoft.iloc[251]"
   ]
  },
  {
   "cell_type": "code",
   "execution_count": 4,
   "id": "f89dca03",
   "metadata": {},
   "outputs": [
    {
     "data": {
      "text/plain": [
       "252"
      ]
     },
     "execution_count": 4,
     "metadata": {},
     "output_type": "execute_result"
    }
   ],
   "source": [
    "microsoft[\"Volume\"].idxmin()"
   ]
  },
  {
   "cell_type": "markdown",
   "id": "dfdec3d2",
   "metadata": {},
   "source": [
    "###Define min production rows"
   ]
  },
  {
   "cell_type": "code",
   "execution_count": 5,
   "id": "2c7a5c96",
   "metadata": {},
   "outputs": [
    {
     "data": {
      "text/plain": [
       "Date         2021-05-20\n",
       "Open         243.960007\n",
       "High         247.660004\n",
       "Low          243.860001\n",
       "Close        247.580002\n",
       "Adj Close    247.580002\n",
       "Volume          7566043\n",
       "Name: 252, dtype: object"
      ]
     },
     "execution_count": 5,
     "metadata": {},
     "output_type": "execute_result"
    }
   ],
   "source": [
    "microsoft.iloc[252]"
   ]
  },
  {
   "cell_type": "code",
   "execution_count": 6,
   "id": "dc8c3c7f",
   "metadata": {},
   "outputs": [
    {
     "data": {
      "text/plain": [
       "51"
      ]
     },
     "execution_count": 6,
     "metadata": {},
     "output_type": "execute_result"
    }
   ],
   "source": [
    "microsoft[\"Volume\"].idxmax()"
   ]
  },
  {
   "cell_type": "code",
   "execution_count": 7,
   "id": "0e252599",
   "metadata": {},
   "outputs": [
    {
     "data": {
      "text/plain": [
       "Date         2020-08-03\n",
       "Open         211.520004\n",
       "High         217.639999\n",
       "Low          210.440002\n",
       "Close        216.539993\n",
       "Adj Close     214.46344\n",
       "Volume         78983000\n",
       "Name: 51, dtype: object"
      ]
     },
     "execution_count": 7,
     "metadata": {},
     "output_type": "execute_result"
    }
   ],
   "source": [
    "microsoft.iloc[51]"
   ]
  },
  {
   "cell_type": "markdown",
   "id": "fe2996bd",
   "metadata": {},
   "source": [
    "###Call to max column"
   ]
  },
  {
   "cell_type": "code",
   "execution_count": 8,
   "id": "2705de4f",
   "metadata": {},
   "outputs": [
    {
     "data": {
      "text/plain": [
       "Date         2021-05-20\n",
       "Open         261.660004\n",
       "High         263.190002\n",
       "Low          260.170013\n",
       "Close        261.970001\n",
       "Adj Close    261.366486\n",
       "Volume         78983000\n",
       "dtype: object"
      ]
     },
     "execution_count": 8,
     "metadata": {},
     "output_type": "execute_result"
    }
   ],
   "source": [
    "col_max = microsoft.max(axis=0)\n",
    "col_max"
   ]
  },
  {
   "cell_type": "code",
   "execution_count": 13,
   "id": "3f60a19c",
   "metadata": {},
   "outputs": [
    {
     "data": {
      "text/plain": [
       "0      31261300.0\n",
       "1      29119500.0\n",
       "2      20826900.0\n",
       "3      36073600.0\n",
       "4      39517100.0\n",
       "          ...    \n",
       "248    23868600.0\n",
       "249    24970200.0\n",
       "250    20168000.0\n",
       "251    25723300.0\n",
       "252     7566043.0\n",
       "Length: 253, dtype: float64"
      ]
     },
     "execution_count": 13,
     "metadata": {},
     "output_type": "execute_result"
    }
   ],
   "source": [
    "row_max = microsoft.max(axis=1)\n",
    "row_max"
   ]
  },
  {
   "cell_type": "code",
   "execution_count": 4,
   "id": "e20d4f61",
   "metadata": {},
   "outputs": [
    {
     "data": {
      "text/html": [
       "<div>\n",
       "<style scoped>\n",
       "    .dataframe tbody tr th:only-of-type {\n",
       "        vertical-align: middle;\n",
       "    }\n",
       "\n",
       "    .dataframe tbody tr th {\n",
       "        vertical-align: top;\n",
       "    }\n",
       "\n",
       "    .dataframe thead th {\n",
       "        text-align: right;\n",
       "    }\n",
       "</style>\n",
       "<table border=\"1\" class=\"dataframe\">\n",
       "  <thead>\n",
       "    <tr style=\"text-align: right;\">\n",
       "      <th></th>\n",
       "      <th>Profitability;MSFT;AAPL</th>\n",
       "    </tr>\n",
       "  </thead>\n",
       "  <tbody>\n",
       "    <tr>\n",
       "      <th>0</th>\n",
       "      <td>Profit Margin;35.02%;23.45%</td>\n",
       "    </tr>\n",
       "    <tr>\n",
       "      <th>1</th>\n",
       "      <td>Operating Margin (ttm);40.15%;27.32%</td>\n",
       "    </tr>\n",
       "  </tbody>\n",
       "</table>\n",
       "</div>"
      ],
      "text/plain": [
       "                Profitability;MSFT;AAPL\n",
       "0           Profit Margin;35.02%;23.45%\n",
       "1  Operating Margin (ttm);40.15%;27.32%"
      ]
     },
     "execution_count": 4,
     "metadata": {},
     "output_type": "execute_result"
    }
   ],
   "source": [
    "microsoft"
   ]
  },
  {
   "cell_type": "code",
   "execution_count": null,
   "id": "011d2f66",
   "metadata": {},
   "outputs": [],
   "source": []
  }
 ],
 "metadata": {
  "kernelspec": {
   "display_name": "Python 3",
   "language": "python",
   "name": "python3"
  },
  "language_info": {
   "codemirror_mode": {
    "name": "ipython",
    "version": 3
   },
   "file_extension": ".py",
   "mimetype": "text/x-python",
   "name": "python",
   "nbconvert_exporter": "python",
   "pygments_lexer": "ipython3",
   "version": "3.8.5"
  }
 },
 "nbformat": 4,
 "nbformat_minor": 5
}
